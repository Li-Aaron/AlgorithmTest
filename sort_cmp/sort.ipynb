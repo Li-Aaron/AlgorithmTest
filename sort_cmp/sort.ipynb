{
 "cells": [
  {
   "cell_type": "markdown",
   "metadata": {
    "collapsed": true
   },
   "source": [
    "# 各类排序算法性能对比"
   ]
  },
  {
   "cell_type": "markdown",
   "metadata": {},
   "source": [
    "### 排序算法复杂度整理\n",
    "\n",
    "| 排序算法 | English | 时 间 复 杂 度 | 空 间 复 杂 度 |\n",
    "| :---: | :---: | :---: | :---: |\n",
    "| 冒泡排序 | BubbleSort | $O(n^2)$        | $O(1)$          |\n",
    "| 选择排序 | SelectSort | $O(n^2)$        | $O(1)$          |\n",
    "| 插入排序 | InsertSort | $O(n^2)$        | $O(1)$          |\n",
    "| 希尔排序 | ShellSort  | $O(n^{1.5})$       | $O(1)$          |\n",
    "| 快速排序 | QuickSort  | $O(Nlog_2N)$ | $O(log_2N)$ |\n",
    "| 归并排序 | MergeSort  | $O(Nlog_2N)$ | $O(N)$          |\n",
    "| 堆排序   | HeapSort   | $O(Nlog_2N)$ | $O(1)$          |"
   ]
  },
  {
   "cell_type": "markdown",
   "metadata": {},
   "source": [
    "### 初始化"
   ]
  },
  {
   "cell_type": "code",
   "execution_count": 1,
   "metadata": {},
   "outputs": [],
   "source": [
    "import random\n",
    "import copy, time\n",
    "from sort import *\n",
    "\n",
    "import pandas as pd\n",
    "import numpy as np\n",
    "import matplotlib.pyplot as plt\n",
    "\n",
    "# 待测试排序算法\n",
    "# Python: SortFunc\n",
    "# C:      SortFuncC"
   ]
  },
  {
   "cell_type": "markdown",
   "metadata": {},
   "source": [
    "### 基本排序测试 (Python)"
   ]
  },
  {
   "cell_type": "code",
   "execution_count": 2,
   "metadata": {},
   "outputs": [
    {
     "name": "stdout",
     "output_type": "stream",
     "text": [
      "Python Sort Test\n",
      "[Function SortStd] Time Duration:0.001000s\n",
      "[Class   BubbleSort]: Time Duration: 0.593043s, Check: True SwapCount =     239341, SearchCount =     999000\n",
      "[Class   SelectSort]: Time Duration: 0.226017s, Check: True SwapCount =        997, SearchCount =     499500\n",
      "[Class   InsertSort]: Time Duration: 0.130009s, Check: True SwapCount =          0, SearchCount =     240340\n",
      "[Class    QuickSort]: Time Duration: 0.008000s, Check: True SwapCount =       3108, SearchCount =      10761\n",
      "[Class   QuickSort2]: Time Duration: 0.007000s, Check: True SwapCount =       1892, SearchCount =      11167\n",
      "[Class    ShellSort]: Time Duration: 0.015001s, Check: True SwapCount =          0, SearchCount =      16639\n",
      "[Class    MergeSort]: Time Duration: 0.007000s, Check: True SwapCount =          0, SearchCount =       9735\n",
      "[Class     HeapSort]: Time Duration: 0.013002s, Check: True SwapCount =       9115, SearchCount =      16857\n"
     ]
    }
   ],
   "source": [
    "print(\"Python Sort Test\")\n",
    "RandList = GenRandNum(1000)\n",
    "StdList = SortStd(copy.copy(RandList))\n",
    "for cSort in SortFunc:\n",
    "    SortTest(cSort, copy.copy(RandList), StdList)"
   ]
  },
  {
   "cell_type": "markdown",
   "metadata": {},
   "source": [
    "### MonteCarlo测试"
   ]
  },
  {
   "cell_type": "markdown",
   "metadata": {},
   "source": [
    "***创建测试函数 (Both For C/Python Sort)***"
   ]
  },
  {
   "cell_type": "code",
   "execution_count": 3,
   "metadata": {},
   "outputs": [],
   "source": [
    "def SortTestRep(SortList, SortTestFunc, NumLen = 100, Times = 10):\n",
    "    # init\n",
    "    keys = ['Swap','Search','Time']\n",
    "    keysAvg = ['AvgSwap','AvgSearch','AvgTime']\n",
    "    TestResult = {}\n",
    "    for Sort in SortList:\n",
    "        TestResult[Sort.__name__] = dict.fromkeys(keys+keysAvg)\n",
    "        for key, keyAvg in zip(keys, keysAvg):\n",
    "            TestResult[Sort.__name__][key] = []\n",
    "            TestResult[Sort.__name__][keyAvg] = 0\n",
    "    \n",
    "    # run tests\n",
    "    for i in range(Times):\n",
    "        RandomNumbers = GenRandNum(NumLen)\n",
    "        for Sort in SortList:\n",
    "            result = SortTestFunc(Sort, RandomNumbers, PrintFlag=False)\n",
    "            for key in keys:\n",
    "                TestResult[Sort.__name__][key].append(result[key])\n",
    "    \n",
    "    # analyse\n",
    "    for Sort in SortList:\n",
    "        for key, keyAvg in zip(keys, keysAvg):\n",
    "            if(TestResult[Sort.__name__][key][0]):\n",
    "                TestResult[Sort.__name__][keyAvg] = sum(TestResult[Sort.__name__][key])/Times\n",
    "    \n",
    "    return TestResult"
   ]
  },
  {
   "cell_type": "markdown",
   "metadata": {},
   "source": [
    "***测试算法***"
   ]
  },
  {
   "cell_type": "code",
   "execution_count": 4,
   "metadata": {},
   "outputs": [],
   "source": [
    "# run test (cost a period of time, suggest run once)\n",
    "TestResult = SortTestRep(SortFunc, SortTest, NumLen = 1000, Times = 10)"
   ]
  },
  {
   "cell_type": "code",
   "execution_count": 5,
   "metadata": {},
   "outputs": [
    {
     "name": "stdout",
     "output_type": "stream",
     "text": [
      "           AvgSearch AvgSwap     AvgTime\n",
      "BubbleSort    999000  250841    0.586647\n",
      "SelectSort    499500   991.8    0.223714\n",
      "InsertSort    251840       0    0.138813\n",
      "QuickSort      10999  3051.2  0.00779655\n",
      "QuickSort2   11388.6  1872.4   0.0073014\n",
      "ShellSort    15560.2       0   0.0143015\n",
      "MergeSort     9710.6       0  0.00709918\n",
      "HeapSort     16852.1  9081.4    0.013902\n"
     ]
    }
   ],
   "source": [
    "# using pandas to analyse\n",
    "dfTest = pd.DataFrame(TestResult).T\n",
    "keysToAnalyse = ['AvgSearch','AvgSwap','AvgTime']\n",
    "dfTestToPrint = dfTest.loc[:,keysToAnalyse]\n",
    "print(dfTestToPrint)"
   ]
  },
  {
   "cell_type": "markdown",
   "metadata": {},
   "source": [
    "***作图分析***"
   ]
  },
  {
   "cell_type": "code",
   "execution_count": 6,
   "metadata": {},
   "outputs": [],
   "source": [
    "def PlotResult(dfTest, keysToAnalyse):\n",
    "    # parameters\n",
    "    NumAnalyse = len(keysToAnalyse)\n",
    "    fig = plt.figure()\n",
    "    fig.set_figheight(5)\n",
    "    fig.set_figwidth(15)\n",
    "    bar_width = 0.7\n",
    "    opacity = 0.4\n",
    "\n",
    "    # bar plots\n",
    "    for i,key in zip(range(NumAnalyse),keysToAnalyse):\n",
    "        data = dfTest.loc[:,key]\n",
    "        ax = fig.add_subplot(1,NumAnalyse,i+1)\n",
    "        index = np.arange(len(data))\n",
    "        rects = plt.bar(index, data, bar_width,\n",
    "                         alpha=opacity,\n",
    "                         color='b')\n",
    "        plt.ylabel(key)\n",
    "        plt.xticks(index, dfTest.index, rotation=90)\n",
    "        plt.tight_layout()\n",
    "    plt.show()"
   ]
  },
  {
   "cell_type": "code",
   "execution_count": 7,
   "metadata": {},
   "outputs": [
    {
     "data": {
      "image/png": "[encoded data removed]",
      "text/plain": [
       "<Figure size 1080x360 with 3 Axes>"
      ]
     },
     "metadata": {},
     "output_type": "display_data"
    }
   ],
   "source": [
    "PlotResult(dfTest, keysToAnalyse)"
   ]
  },
  {
   "cell_type": "markdown",
   "metadata": {},
   "source": [
    "### 优化排序测试 (C Language)"
   ]
  },
  {
   "cell_type": "code",
   "execution_count": 8,
   "metadata": {},
   "outputs": [
    {
     "name": "stdout",
     "output_type": "stream",
     "text": [
      "C Sort Test\n",
      "[Function SortStd] Time Duration:0.211018s\n",
      "[Func    SortBubble]: Time Duration: 22.136637s, Check: True\n",
      "[Func    SortSelect]: Time Duration: 2.887213s, Check: True\n",
      "[Func    SortInsert]: Time Duration: 1.622130s, Check: True\n",
      "[Func     SortShell]: Time Duration: 0.033998s, Check: True\n",
      "[Func     SortQuick]: Time Duration: 0.032001s, Check: True\n",
      "[Func    SortQuick2]: Time Duration: 0.032011s, Check: True\n",
      "[Func     SortMerge]: Time Duration: 0.042012s, Check: True\n",
      "[Func      SortHeap]: Time Duration: 0.036003s, Check: True\n"
     ]
    }
   ],
   "source": [
    "print(\"C Sort Test\")\n",
    "RandList = GenRandNum(100000)\n",
    "StdList = SortStd(copy.copy(RandList))\n",
    "for fSort in SortFuncC:\n",
    "    SortTestC(fSort, copy.copy(RandList), StdList)"
   ]
  },
  {
   "cell_type": "markdown",
   "metadata": {},
   "source": [
    "### MonteCarlo测试  (C Language)"
   ]
  },
  {
   "cell_type": "markdown",
   "metadata": {},
   "source": [
    "***测试算法***"
   ]
  },
  {
   "cell_type": "code",
   "execution_count": 9,
   "metadata": {},
   "outputs": [],
   "source": [
    "# run test (cost a period of time, suggest run once)\n",
    "TestResultC = SortTestRep(SortFuncC, SortTestC, NumLen = 10000, Times = 10)"
   ]
  },
  {
   "cell_type": "code",
   "execution_count": 10,
   "metadata": {},
   "outputs": [
    {
     "name": "stdout",
     "output_type": "stream",
     "text": [
      "               AvgTime\n",
      "SortBubble    0.163914\n",
      "SortSelect   0.0297012\n",
      "SortInsert   0.0186012\n",
      "SortShell   0.00350044\n",
      "SortQuick   0.00330195\n",
      "SortQuick2  0.00330017\n",
      "SortMerge   0.00440016\n",
      "SortHeap    0.00310249\n"
     ]
    }
   ],
   "source": [
    "# using pandas to analyse\n",
    "dfTestC = pd.DataFrame(TestResultC).T\n",
    "keysToAnalyse = ['AvgTime']\n",
    "dfTestToPrintC = dfTestC.loc[:,keysToAnalyse]\n",
    "print(dfTestToPrintC)"
   ]
  },
  {
   "cell_type": "markdown",
   "metadata": {},
   "source": [
    "***作图分析***"
   ]
  },
  {
   "cell_type": "code",
   "execution_count": 11,
   "metadata": {},
   "outputs": [
    {
     "data": {
      "image/png": "[encoded data removed]",
      "text/plain": [
       "<Figure size 1080x360 with 1 Axes>"
      ]
     },
     "metadata": {},
     "output_type": "display_data"
    }
   ],
   "source": [
    "PlotResult(dfTestC, keysToAnalyse)"
   ]
  },
  {
   "cell_type": "markdown",
   "metadata": {},
   "source": [
    "***Compare of Shell, Quick, Quick+Insert, Merge, Heap***"
   ]
  },
  {
   "cell_type": "code",
   "execution_count": 12,
   "metadata": {},
   "outputs": [],
   "source": [
    "# run test (cost a period of time, suggest run once)\n",
    "SortFuncC_Ex = [\n",
    "    sort_lib.SortShell,\n",
    "    sort_lib.SortQuick,\n",
    "    sort_lib.SortQuick2,\n",
    "    sort_lib.SortMerge,\n",
    "    sort_lib.SortHeap\n",
    "]\n",
    "TestResultC_Ex = SortTestRep(SortFuncC_Ex, SortTestC, NumLen = 1000000, Times = 10)"
   ]
  },
  {
   "cell_type": "code",
   "execution_count": 13,
   "metadata": {
    "scrolled": true
   },
   "outputs": [
    {
     "name": "stdout",
     "output_type": "stream",
     "text": [
      "             AvgTime\n",
      "SortShell   0.449027\n",
      "SortQuick   0.373444\n",
      "SortQuick2  0.361405\n",
      "SortMerge   0.510302\n",
      "SortHeap    0.477107\n"
     ]
    }
   ],
   "source": [
    "dfTestC_Ex = pd.DataFrame(TestResultC_Ex).T\n",
    "keysToAnalyse = ['AvgTime']\n",
    "dfTestToPrintC_Ex = dfTestC_Ex.loc[:,keysToAnalyse]\n",
    "print(dfTestToPrintC_Ex)"
   ]
  },
  {
   "cell_type": "markdown",
   "metadata": {},
   "source": [
    "***作图分析***"
   ]
  },
  {
   "cell_type": "code",
   "execution_count": 14,
   "metadata": {},
   "outputs": [
    {
     "data": {
      "image/png": "[encoded data removed]",
      "text/plain": [
       "<Figure size 1080x360 with 1 Axes>"
      ]
     },
     "metadata": {},
     "output_type": "display_data"
    }
   ],
   "source": [
    "PlotResult(dfTestC_Ex, keysToAnalyse)"
   ]
  }
 ],
 "metadata": {
  "kernelspec": {
   "display_name": "Python 3",
   "language": "python",
   "name": "python3"
  },
  "language_info": {
   "codemirror_mode": {
    "name": "ipython",
    "version": 3
   },
   "file_extension": ".py",
   "mimetype": "text/x-python",
   "name": "python",
   "nbconvert_exporter": "python",
   "pygments_lexer": "ipython3",
   "version": "3.6.5"
  }
 },
 "nbformat": 4,
 "nbformat_minor": 2
}
