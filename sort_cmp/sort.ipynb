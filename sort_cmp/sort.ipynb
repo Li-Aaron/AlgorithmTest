{
 "cells": [
  {
   "cell_type": "markdown",
   "metadata": {
    "collapsed": true
   },
   "source": [
    "# 各类排序算法性能对比"
   ]
  },
  {
   "cell_type": "markdown",
   "metadata": {},
   "source": [
    "### 排序算法复杂度整理\n",
    "\n",
    "| 排序算法 | English | 时 间 复 杂 度 | 空 间 复 杂 度 |\n",
    "| :---: | :---: | :---: | :---: |\n",
    "| 冒泡排序 | BubbleSort | $O(n^2)$        | $O(1)$          |\n",
    "| 选择排序 | SelectSort | $O(n^2)$        | $O(1)$          |\n",
    "| 插入排序 | InsertSort | $O(n^2)$        | $O(1)$          |\n",
    "| 希尔排序 | ShellSort  | $O(n^{1.5})$       | $O(1)$          |\n",
    "| 快速排序 | QuickSort  | $O(Nlog_2N)$ | $O(1)$ |\n",
    "| 归并排序 | MergeSort  | $O(Nlog_2N)$ | $O(Nlog_2N)$          |\n",
    "| 堆排序   | HeapSort   | $O(n^2)$ | $O(1)$          |"
   ]
  },
  {
   "cell_type": "markdown",
   "metadata": {},
   "source": [
    "### 初始化"
   ]
  },
  {
   "cell_type": "code",
   "execution_count": 1,
   "metadata": {},
   "outputs": [],
   "source": [
    "import random\n",
    "import copy, time\n",
    "from sort import *\n",
    "\n",
    "import pandas as pd\n",
    "import numpy as np\n",
    "import matplotlib.pyplot as plt\n",
    "\n",
    "# 待测试排序算法\n",
    "# Python: SortFunc\n",
    "# C:      SortFuncC"
   ]
  },
  {
   "cell_type": "markdown",
   "metadata": {},
   "source": [
    "### 基本排序测试 (Python)"
   ]
  },
  {
   "cell_type": "code",
   "execution_count": 2,
   "metadata": {},
   "outputs": [
    {
     "name": "stdout",
     "output_type": "stream",
     "text": [
      "Python Sort Test\n",
      "[Function SortStd] Time Duration:0.001000s\n",
      "[Class   BubbleSort]: Time Duration: 0.540051s, Check: True SwapCount =     251281, SearchCount =     999000\n",
      "[Class   SelectSort]: Time Duration: 0.200015s, Check: True SwapCount =        995, SearchCount =     499500\n",
      "[Class   InsertSort]: Time Duration: 0.129001s, Check: True SwapCount =          0, SearchCount =     252280\n",
      "[Class    QuickSort]: Time Duration: 0.007002s, Check: True SwapCount =       3062, SearchCount =      10607\n",
      "[Class   QuickSort2]: Time Duration: 0.006999s, Check: True SwapCount =       1899, SearchCount =      10938\n",
      "[Class    ShellSort]: Time Duration: 0.013001s, Check: True SwapCount =          0, SearchCount =      15469\n",
      "[Class    MergeSort]: Time Duration: 0.006001s, Check: True SwapCount =          0, SearchCount =       9708\n",
      "[Class     HeapSort]: Time Duration: 0.284022s, Check: True SwapCount =       9051, SearchCount =     499500\n"
     ]
    }
   ],
   "source": [
    "print(\"Python Sort Test\")\n",
    "RandList = GenRandNum(1000)\n",
    "StdList = SortStd(copy.copy(RandList))\n",
    "for cSort in SortFunc:\n",
    "    SortTest(cSort, copy.copy(RandList), StdList)"
   ]
  },
  {
   "cell_type": "markdown",
   "metadata": {},
   "source": [
    "### MonteCarlo测试"
   ]
  },
  {
   "cell_type": "markdown",
   "metadata": {},
   "source": [
    "***创建测试函数 (Both For C/Python Sort)***"
   ]
  },
  {
   "cell_type": "code",
   "execution_count": 3,
   "metadata": {},
   "outputs": [],
   "source": [
    "def SortTestRep(SortList, SortTestFunc, NumLen = 100, Times = 10):\n",
    "    # init\n",
    "    keys = ['Swap','Search','Time']\n",
    "    keysAvg = ['AvgSwap','AvgSearch','AvgTime']\n",
    "    TestResult = {}\n",
    "    for Sort in SortList:\n",
    "        TestResult[Sort.__name__] = dict.fromkeys(keys+keysAvg)\n",
    "        for key, keyAvg in zip(keys, keysAvg):\n",
    "            TestResult[Sort.__name__][key] = []\n",
    "            TestResult[Sort.__name__][keyAvg] = 0\n",
    "    \n",
    "    # run tests\n",
    "    for i in range(Times):\n",
    "        RandomNumbers = GenRandNum(NumLen)\n",
    "        for Sort in SortList:\n",
    "            result = SortTestFunc(Sort, RandomNumbers, PrintFlag=False)\n",
    "            for key in keys:\n",
    "                TestResult[Sort.__name__][key].append(result[key])\n",
    "    \n",
    "    # analyse\n",
    "    for Sort in SortList:\n",
    "        for key, keyAvg in zip(keys, keysAvg):\n",
    "            if(TestResult[Sort.__name__][key][0]):\n",
    "                TestResult[Sort.__name__][keyAvg] = sum(TestResult[Sort.__name__][key])/Times\n",
    "    \n",
    "    return TestResult"
   ]
  },
  {
   "cell_type": "markdown",
   "metadata": {},
   "source": [
    "***测试算法***"
   ]
  },
  {
   "cell_type": "code",
   "execution_count": 4,
   "metadata": {},
   "outputs": [],
   "source": [
    "# run test (cost a period of time, suggest run once)\n",
    "TestResult = SortTestRep(SortFunc, SortTest, NumLen = 1000, Times = 10)"
   ]
  },
  {
   "cell_type": "code",
   "execution_count": 5,
   "metadata": {},
   "outputs": [
    {
     "name": "stdout",
     "output_type": "stream",
     "text": [
      "           AvgSearch AvgSwap     AvgTime\n",
      "BubbleSort    999000  249703    0.502839\n",
      "SelectSort    499500   991.8    0.188617\n",
      "InsertSort    250702       0    0.121707\n",
      "QuickSort    10947.5  3047.1  0.00710166\n",
      "QuickSort2   11318.1  1891.7  0.00670018\n",
      "ShellSort    15683.8       0   0.0135012\n",
      "MergeSort     9707.3       0  0.00630064\n",
      "HeapSort      499500  9044.2    0.270823\n"
     ]
    }
   ],
   "source": [
    "# using pandas to analyse\n",
    "dfTest = pd.DataFrame(TestResult).T\n",
    "keysToAnalyse = ['AvgSearch','AvgSwap','AvgTime']\n",
    "dfTestToPrint = dfTest.loc[:,keysToAnalyse]\n",
    "print(dfTestToPrint)"
   ]
  },
  {
   "cell_type": "markdown",
   "metadata": {},
   "source": [
    "***作图分析***"
   ]
  },
  {
   "cell_type": "code",
   "execution_count": 6,
   "metadata": {},
   "outputs": [],
   "source": [
    "def PlotResult(dfTest, keysToAnalyse):\n",
    "    # parameters\n",
    "    NumAnalyse = len(keysToAnalyse)\n",
    "    fig = plt.figure()\n",
    "    fig.set_figheight(5)\n",
    "    fig.set_figwidth(15)\n",
    "    bar_width = 0.7\n",
    "    opacity = 0.4\n",
    "\n",
    "    # bar plots\n",
    "    for i,key in zip(range(NumAnalyse),keysToAnalyse):\n",
    "        data = dfTest.loc[:,key]\n",
    "        ax = fig.add_subplot(1,NumAnalyse,i+1)\n",
    "        index = np.arange(len(data))\n",
    "        rects = plt.bar(index, data, bar_width,\n",
    "                         alpha=opacity,\n",
    "                         color='b')\n",
    "        plt.ylabel(key)\n",
    "        plt.xticks(index, dfTest.index, rotation=90)\n",
    "        plt.tight_layout()\n",
    "    plt.show()"
   ]
  },
  {
   "cell_type": "code",
   "execution_count": 7,
   "metadata": {},
   "outputs": [
    {
     "data": {
      "image/png": "[encoded data removed]",
      "text/plain": [
       "<Figure size 1080x360 with 3 Axes>"
      ]
     },
     "metadata": {},
     "output_type": "display_data"
    }
   ],
   "source": [
    "PlotResult(dfTest, keysToAnalyse)"
   ]
  },
  {
   "cell_type": "markdown",
   "metadata": {},
   "source": [
    "### 优化排序测试 (C Language)"
   ]
  },
  {
   "cell_type": "code",
   "execution_count": 8,
   "metadata": {},
   "outputs": [
    {
     "name": "stdout",
     "output_type": "stream",
     "text": [
      "C Sort Test\n",
      "[Function SortStd] Time Duration:0.197012s\n",
      "[Func    SortBubble]: Time Duration: 21.094670s, Check: True\n",
      "[Func    SortSelect]: Time Duration: 2.412185s, Check: True\n",
      "[Func    SortInsert]: Time Duration: 1.393102s, Check: True\n",
      "[Func     SortShell]: Time Duration: 0.031993s, Check: True\n",
      "[Func     SortQuick]: Time Duration: 0.028996s, Check: True\n",
      "[Func    SortQuick2]: Time Duration: 0.029998s, Check: True\n",
      "[Func     SortMerge]: Time Duration: 0.256014s, Check: True\n",
      "[Func      SortHeap]: Time Duration: 6.887538s, Check: True\n"
     ]
    }
   ],
   "source": [
    "print(\"C Sort Test\")\n",
    "RandList = GenRandNum(100000)\n",
    "StdList = SortStd(copy.copy(RandList))\n",
    "for fSort in SortFuncC:\n",
    "    SortTestC(fSort, copy.copy(RandList), StdList)"
   ]
  },
  {
   "cell_type": "markdown",
   "metadata": {},
   "source": [
    "### MonteCarlo测试  (C Language)"
   ]
  },
  {
   "cell_type": "markdown",
   "metadata": {},
   "source": [
    "***测试算法***"
   ]
  },
  {
   "cell_type": "code",
   "execution_count": 9,
   "metadata": {},
   "outputs": [],
   "source": [
    "# run test (cost a period of time, suggest run once)\n",
    "TestResultC = SortTestRep(SortFuncC, SortTestC, NumLen = 10000, Times = 10)"
   ]
  },
  {
   "cell_type": "code",
   "execution_count": 10,
   "metadata": {},
   "outputs": [
    {
     "name": "stdout",
     "output_type": "stream",
     "text": [
      "               AvgTime\n",
      "SortBubble    0.156312\n",
      "SortSelect   0.0266009\n",
      "SortInsert   0.0159041\n",
      "SortShell   0.00289962\n",
      "SortQuick   0.00280018\n",
      "SortQuick2  0.00240004\n",
      "SortMerge    0.0102988\n",
      "SortHeap     0.0714045\n"
     ]
    }
   ],
   "source": [
    "# using pandas to analyse\n",
    "dfTestC = pd.DataFrame(TestResultC).T\n",
    "keysToAnalyse = ['AvgTime']\n",
    "dfTestToPrintC = dfTestC.loc[:,keysToAnalyse]\n",
    "print(dfTestToPrintC)"
   ]
  },
  {
   "cell_type": "markdown",
   "metadata": {},
   "source": [
    "***作图分析***"
   ]
  },
  {
   "cell_type": "code",
   "execution_count": 11,
   "metadata": {},
   "outputs": [
    {
     "data": {
      "image/png": "[encoded data removed]",
      "text/plain": [
       "<Figure size 1080x360 with 1 Axes>"
      ]
     },
     "metadata": {},
     "output_type": "display_data"
    }
   ],
   "source": [
    "PlotResult(dfTestC, keysToAnalyse)"
   ]
  },
  {
   "cell_type": "markdown",
   "metadata": {},
   "source": [
    "***Compare of Shell, Quick, Quick+Insert, Merge***"
   ]
  },
  {
   "cell_type": "code",
   "execution_count": 12,
   "metadata": {},
   "outputs": [],
   "source": [
    "# run test (cost a period of time, suggest run once)\n",
    "SortFuncC_Ex = [\n",
    "    sort_lib.SortShell,\n",
    "    sort_lib.SortQuick,\n",
    "    sort_lib.SortQuick2,\n",
    "    sort_lib.SortMerge,\n",
    "]\n",
    "TestResultC_Ex = SortTestRep(SortFuncC_Ex, SortTestC, NumLen = 1000000, Times = 10)"
   ]
  },
  {
   "cell_type": "code",
   "execution_count": 13,
   "metadata": {
    "scrolled": true
   },
   "outputs": [
    {
     "name": "stdout",
     "output_type": "stream",
     "text": [
      "             AvgTime\n",
      "SortShell   0.410726\n",
      "SortQuick   0.340525\n",
      "SortQuick2  0.334224\n",
      "SortMerge   0.463634\n"
     ]
    }
   ],
   "source": [
    "dfTestC_Ex = pd.DataFrame(TestResultC_Ex).T\n",
    "keysToAnalyse = ['AvgTime']\n",
    "dfTestToPrintC_Ex = dfTestC_Ex.loc[:,keysToAnalyse]\n",
    "print(dfTestToPrintC_Ex)"
   ]
  },
  {
   "cell_type": "markdown",
   "metadata": {},
   "source": [
    "***作图分析***"
   ]
  },
  {
   "cell_type": "code",
   "execution_count": 14,
   "metadata": {},
   "outputs": [
    {
     "data": {
      "image/png": "[encoded data removed]",
      "text/plain": [
       "<Figure size 1080x360 with 1 Axes>"
      ]
     },
     "metadata": {},
     "output_type": "display_data"
    }
   ],
   "source": [
    "PlotResult(dfTestC_Ex, keysToAnalyse)"
   ]
  }
 ],
 "metadata": {
  "kernelspec": {
   "display_name": "Python 3",
   "language": "python",
   "name": "python3"
  },
  "language_info": {
   "codemirror_mode": {
    "name": "ipython",
    "version": 3
   },
   "file_extension": ".py",
   "mimetype": "text/x-python",
   "name": "python",
   "nbconvert_exporter": "python",
   "pygments_lexer": "ipython3",
   "version": "3.6.5"
  }
 },
 "nbformat": 4,
 "nbformat_minor": 2
}
