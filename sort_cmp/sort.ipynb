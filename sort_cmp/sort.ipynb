{
 "cells": [
  {
   "cell_type": "markdown",
   "metadata": {
    "collapsed": true
   },
   "source": [
    "# 各类排序算法性能对比"
   ]
  },
  {
   "cell_type": "markdown",
   "metadata": {},
   "source": [
    "### 排序算法复杂度整理\n",
    "\n",
    "| 排序算法 | English | 时 间 复 杂 度 | 空 间 复 杂 度 |\n",
    "| :---: | :---: | :---: | :---: |\n",
    "| 冒泡排序 | BubbleSort | $O(n^2)$        | $O(1)$          |\n",
    "| 选择排序 | SelectSort | $O(n^2)$        | $O(1)$          |\n",
    "| 插入排序 | InsertSort | $O(n^2)$        | $O(1)$          |\n",
    "| 希尔排序 | ShellSort  | $O(n^{1.5})$       | $O(1)$          |\n",
    "| 快速排序 | QuickSort  | $O(Nlog_2N)$ | $O(Nlog_2N)$ |\n",
    "| 归并排序 | MergeSort  | $O(Nlog_2N)$ | $O(1)$          |\n",
    "| 堆排序   | HeapSort   | $O(Nlog_2N)$ | $O(1)$          |"
   ]
  },
  {
   "cell_type": "markdown",
   "metadata": {},
   "source": [
    "### 初始化"
   ]
  },
  {
   "cell_type": "code",
   "execution_count": 1,
   "metadata": {},
   "outputs": [],
   "source": [
    "import random\n",
    "import copy, time\n",
    "from sort import *\n",
    "\n",
    "import pandas as pd\n",
    "import numpy as np\n",
    "import matplotlib.pyplot as plt\n",
    "\n",
    "# 生成随机数\n",
    "NumNumbers = 300\n",
    "RandomNumbers = [random.uniform(0,10) for x in range(0,NumNumbers,1)]\n",
    "\n",
    "# 待测试排序算法\n",
    "SortFunc = [BubbleSort,SelectSort,InsertSort,QuickSort,ShellSort,MergeSort,HeapSort]"
   ]
  },
  {
   "cell_type": "markdown",
   "metadata": {},
   "source": [
    "### 基本排序测试"
   ]
  },
  {
   "cell_type": "code",
   "execution_count": 2,
   "metadata": {},
   "outputs": [
    {
     "name": "stdout",
     "output_type": "stream",
     "text": [
      "[Function SortStd] Time Duration: 0.000s\n",
      "[Class   BubbleSort]: Time Duration:  0.045s, Check: True SwapCount =      21228, SearchCount =      89700\n",
      "[Class   SelectSort]: Time Duration:  0.017s, Check: True SwapCount =        292, SearchCount =      44850\n",
      "[Class   InsertSort]: Time Duration:  0.010s, Check: True SwapCount =          0, SearchCount =      21527\n",
      "[Class    QuickSort]: Time Duration:  0.001s, Check: True SwapCount =        784, SearchCount =       2511\n",
      "[Class    ShellSort]: Time Duration:  0.003s, Check: True SwapCount =          0, SearchCount =       3694\n",
      "[Class    MergeSort]: Time Duration:  0.001s, Check: True SwapCount =          0, SearchCount =       2390\n",
      "[Class     HeapSort]: Time Duration:  0.021s, Check: True SwapCount =       2172, SearchCount =      24369\n"
     ]
    }
   ],
   "source": [
    "RandList = copy.copy(RandomNumbers)\n",
    "StdList = SortStd(RandList)\n",
    "\n",
    "RandList = copy.copy(RandomNumbers)\n",
    "for cSort in SortFunc:\n",
    "    SortTest(cSort, RandList, StdList)"
   ]
  },
  {
   "cell_type": "markdown",
   "metadata": {},
   "source": [
    "### MonteCarlo测试"
   ]
  },
  {
   "cell_type": "markdown",
   "metadata": {},
   "source": [
    "***创建测试函数***"
   ]
  },
  {
   "cell_type": "code",
   "execution_count": 3,
   "metadata": {},
   "outputs": [],
   "source": [
    "def SortTestRep(cSortList, NumLen = 100, Times = 10):\n",
    "    # init\n",
    "    keys = ['Swap','Search','Time']\n",
    "    keysAvg = ['AvgSwap','AvgSearch','AvgTime']\n",
    "    TestResult = {}\n",
    "    for cSort in cSortList:\n",
    "        TestResult[cSort.__name__] = dict.fromkeys(keys+keysAvg)\n",
    "        for key, keyAvg in zip(keys, keysAvg):\n",
    "            TestResult[cSort.__name__][key] = []\n",
    "            TestResult[cSort.__name__][keyAvg] = 0\n",
    "    \n",
    "    # run tests\n",
    "    for i in range(Times):\n",
    "        RandomNumbers = [random.uniform(0,10) for x in range(0,NumLen,1)]\n",
    "        for cSort in cSortList:\n",
    "            result = SortTest(cSort, RandomNumbers, PrintFlag=False)\n",
    "            for key in keys:\n",
    "                TestResult[cSort.__name__][key].append(result[key])\n",
    "    \n",
    "    # analyse\n",
    "    for cSort in cSortList:\n",
    "        for key, keyAvg in zip(keys, keysAvg):\n",
    "            TestResult[cSort.__name__][keyAvg] = sum(TestResult[cSort.__name__][key])/Times\n",
    "    \n",
    "    return TestResult"
   ]
  },
  {
   "cell_type": "markdown",
   "metadata": {},
   "source": [
    "***测试算法***"
   ]
  },
  {
   "cell_type": "code",
   "execution_count": 4,
   "metadata": {},
   "outputs": [],
   "source": [
    "# run test (cost a period of time, suggest run once)\n",
    "TestResult = SortTestRep(SortFunc, NumLen = 1000, Times = 10)"
   ]
  },
  {
   "cell_type": "code",
   "execution_count": 6,
   "metadata": {},
   "outputs": [
    {
     "name": "stdout",
     "output_type": "stream",
     "text": [
      "           AvgSearch AvgSwap     AvgTime\n",
      "BubbleSort    999000  250057    0.506937\n",
      "SelectSort    499500   991.2    0.193917\n",
      "InsertSort    251056       0    0.124811\n",
      "QuickSort    10665.5  3080.5  0.00700047\n",
      "ShellSort      15746       0   0.0135011\n",
      "MergeSort     9701.4       0  0.00630052\n",
      "HeapSort      258028  9033.6    0.222617\n"
     ]
    }
   ],
   "source": [
    "# using pandas to analyse\n",
    "dfTest = pd.DataFrame(TestResult).T\n",
    "keysToAnalyse = ['AvgSearch','AvgSwap','AvgTime']\n",
    "dfTestToPrint = dfTest.loc[:,keysToAnalyse]\n",
    "print(dfTestToPrint)"
   ]
  },
  {
   "cell_type": "markdown",
   "metadata": {},
   "source": [
    "***作图分析***"
   ]
  },
  {
   "cell_type": "code",
   "execution_count": 7,
   "metadata": {},
   "outputs": [
    {
     "name": "stderr",
     "output_type": "stream",
     "text": [
      "No handles with labels found to put in legend.\n",
      "No handles with labels found to put in legend.\n",
      "No handles with labels found to put in legend.\n"
     ]
    },
    {
     "data": {
      "image/png": "[encoded data removed]",
      "text/plain": [
       "<Figure size 1080x360 with 3 Axes>"
      ]
     },
     "metadata": {},
     "output_type": "display_data"
    }
   ],
   "source": [
    "# parameters\n",
    "NumAnalyse = len(keysToAnalyse)\n",
    "fig = plt.figure()\n",
    "fig.set_figheight(5)\n",
    "fig.set_figwidth(15)\n",
    "bar_width = 0.7\n",
    "opacity = 0.4\n",
    "\n",
    "# bar plots\n",
    "for i,key in zip(range(NumAnalyse),keysToAnalyse):\n",
    "    data = dfTest.loc[:,key]\n",
    "    ax = fig.add_subplot(1,NumAnalyse,i+1)\n",
    "    index = np.arange(len(data))\n",
    "    rects = plt.bar(index, data, bar_width,\n",
    "                     alpha=opacity,\n",
    "                     color='b')\n",
    "    plt.ylabel(key)\n",
    "    plt.xticks(index, dfTest.index, rotation=90)\n",
    "    plt.legend()\n",
    "    plt.tight_layout()\n",
    "plt.show()"
   ]
  }
 ],
 "metadata": {
  "kernelspec": {
   "display_name": "Python 3",
   "language": "python",
   "name": "python3"
  },
  "language_info": {
   "codemirror_mode": {
    "name": "ipython",
    "version": 3
   },
   "file_extension": ".py",
   "mimetype": "text/x-python",
   "name": "python",
   "nbconvert_exporter": "python",
   "pygments_lexer": "ipython3",
   "version": "3.6.5"
  }
 },
 "nbformat": 4,
 "nbformat_minor": 2
}
